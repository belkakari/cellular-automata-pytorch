{
 "cells": [
  {
   "cell_type": "markdown",
   "metadata": {},
   "source": [
    "# https://distill.pub/2020/growing-ca/"
   ]
  },
  {
   "cell_type": "code",
   "execution_count": 1,
   "metadata": {},
   "outputs": [],
   "source": [
    "import torch\n",
    "import torch.nn as nn\n",
    "import torch.nn.functional as F\n",
    "import numpy as np\n",
    "import matplotlib.pyplot as plt\n",
    "from PIL import Image\n",
    "import torchvision\n",
    "import random\n",
    "import requests\n",
    "import io\n",
    "\n",
    "%matplotlib inline"
   ]
  },
  {
   "cell_type": "code",
   "execution_count": 2,
   "metadata": {},
   "outputs": [],
   "source": [
    "device='cuda:0'"
   ]
  },
  {
   "cell_type": "code",
   "execution_count": 3,
   "metadata": {},
   "outputs": [],
   "source": [
    "class Perception(nn.Module):\n",
    "    def __init__(self, learnable=False):\n",
    "        super().__init__()\n",
    "        sobel_x = (torch.tensor([[-1, 0, +1],\n",
    "                                [-2, 0, +2],\n",
    "                                [-1, 0, +1]]).float() / 8)[None, None, ...].repeat(16, 16, 1, 1)\n",
    "        sobel_y = (torch.tensor([[-1, -2, -1],\n",
    "                                [0, 0, 0],\n",
    "                                [-1, -2, -1]]).float() / 8)[None, None, ...].repeat(16, 16, 1, 1)\n",
    "        idt = (torch.tensor([[0, 0, 0],\n",
    "                            [0, 1, 0],\n",
    "                            [0, 0, 0]]).float())[None, None, ...].repeat(16, 16, 1, 1)\n",
    "        if learnable:\n",
    "            self.sobel_x = nn.Parameter(sobel_x, requires_grad=True)\n",
    "            self.sobel_y = nn.Parameter(sobel_y, requires_grad=True)\n",
    "            self.identity = nn.Parameter(idt, requires_grad=True)\n",
    "\n",
    "        else:\n",
    "            self.sobel_x = nn.Parameter(sobel_x, requires_grad=False)\n",
    "            self.sobel_y = nn.Parameter(sobel_y, requires_grad=False)\n",
    "            self.identity = nn.Parameter(idt, requires_grad=False)\n",
    "\n",
    "\n",
    "    def forward(self, state_grid):\n",
    "        grad_x = F.conv2d(state_grid, self.sobel_x, padding=1)\n",
    "        grad_y = F.conv2d(state_grid, self.sobel_y, padding=1)\n",
    "        idt = F.conv2d(state_grid, self.identity, padding=1)\n",
    "        perception_grid = torch.cat([state_grid, grad_x, grad_y],  dim=1)\n",
    "        return perception_grid\n",
    "\n",
    "class Policy(nn.Module):\n",
    "    def __init__(self, state_dim=16, interm_dim=128):\n",
    "        super().__init__()\n",
    "        self.conv1 = nn.Conv2d(state_dim * 3, interm_dim, 1)\n",
    "        self.conv2 = nn.Conv2d(interm_dim, state_dim, 1)\n",
    "        nn.init.constant_(self.conv2.weight, 0.01)\n",
    "        nn.init.constant_(self.conv2.bias, 0)\n",
    "        \n",
    "    def forward(self, state):\n",
    "        interm = self.conv1(state)\n",
    "        interm = torch.relu(interm)\n",
    "        return self.conv2(interm)\n",
    "    \n",
    "def stochastic_update_mask(ds_grid, prob=0.5):\n",
    "    # Zero out a random fraction of the updates.\n",
    "    bern = torch.distributions.Bernoulli(prob)\n",
    "    rand_mask = bern.sample_n(ds_grid.shape[2] * ds_grid.shape[3]).view(ds_grid.shape[2:]).float().to(ds_grid.device)\n",
    "    return rand_mask\n",
    "\n",
    "def alive_mask(state_grid, thr=0.1):\n",
    "    # Take the alpha channel as the measure of “life”.\n",
    "    alive = (state_grid[:, 4, :, :].clamp(0, 1) > thr).float().unsqueeze(1)#.repeat(1, 16, 1, 1)\n",
    "    return alive\n"
   ]
  },
  {
   "cell_type": "code",
   "execution_count": 4,
   "metadata": {},
   "outputs": [],
   "source": [
    "def load_image(url, max_size=32):\n",
    "    r = requests.get(url)\n",
    "    img = Image.open(io.BytesIO(r.content))\n",
    "    img.thumbnail((max_size, max_size), Image.ANTIALIAS)\n",
    "    img = np.float32(img)/255.0\n",
    "    # premultiply RGB by Alpha\n",
    "    img[..., :3] *= img[..., 3:]\n",
    "    return img\n",
    "\n",
    "def load_emoji():\n",
    "    url = 'https://github.com/googlefonts/noto-emoji/raw/master/png/128/emoji_u0023.png'\n",
    "    return load_image(url)"
   ]
  },
  {
   "cell_type": "code",
   "execution_count": null,
   "metadata": {},
   "outputs": [],
   "source": []
  },
  {
   "cell_type": "code",
   "execution_count": 5,
   "metadata": {},
   "outputs": [],
   "source": [
    "# target = Image.open('/mnt/evo/Data/wikiart/wikiart/Cubism/aristarkh-lentulov_self-portrait-1915.jpg').convert('RGB').resize((32, 32))\n",
    "# target = torchvision.transforms.ToTensor()(target)\n",
    "# target = torchvision.transforms.Normalize((0.5, 0.5, 0.5),\n",
    "#                                           (0.5, 0.5, 0.5))(target).unsqueeze(0).to(device)\n",
    "# target[:, :, :5] *= 0\n",
    "# target[:, :, -5:] *= 0\n",
    "# target[:, :, :, :5] *= 0\n",
    "# target[:, :, :, -5:] *= 0\n",
    "\n",
    "target = load_emoji()\n",
    "target = torchvision.transforms.ToTensor()(target)\n",
    "target = target.unsqueeze(0).to(device)\n"
   ]
  },
  {
   "cell_type": "code",
   "execution_count": 6,
   "metadata": {},
   "outputs": [
    {
     "data": {
      "text/plain": [
       "torch.Size([1, 1, 32, 32])"
      ]
     },
     "execution_count": 6,
     "metadata": {},
     "output_type": "execute_result"
    }
   ],
   "source": [
    "state_grid = torch.zeros((1, 16, 32, 32), requires_grad=False, device=device)\n",
    "state_grid[0, :, random.randint(14, 18), random.randint(14, 18)] += 1.\n",
    "alive_mask(state_grid).shape"
   ]
  },
  {
   "cell_type": "code",
   "execution_count": 7,
   "metadata": {},
   "outputs": [],
   "source": [
    "policy = Policy().to(device)\n",
    "perception = Perception(learnable=False).to(device)\n",
    "optim = torch.optim.Adam(policy.parameters())\n",
    "loss_fn = nn.MSELoss(reduction='mean')"
   ]
  },
  {
   "cell_type": "code",
   "execution_count": 8,
   "metadata": {},
   "outputs": [
    {
     "name": "stderr",
     "output_type": "stream",
     "text": [
      "/opt/conda/lib/python3.7/site-packages/torch/distributions/distribution.py:134: UserWarning: sample_n will be deprecated. Use .sample((n,)) instead\n",
      "  warnings.warn('sample_n will be deprecated. Use .sample((n,)) instead', UserWarning)\n"
     ]
    },
    {
     "name": "stdout",
     "output_type": "stream",
     "text": [
      "0.91134113073349\n",
      "0.91134113073349\n",
      "0.91134113073349\n",
      "0.91134113073349\n",
      "0.91134113073349\n",
      "0.91134113073349\n",
      "0.91134113073349\n",
      "0.91134113073349\n",
      "0.91134113073349\n",
      "0.91134113073349\n",
      "0.91134113073349\n",
      "0.91134113073349\n",
      "0.91134113073349\n",
      "0.91134113073349\n",
      "0.91134113073349\n",
      "0.91134113073349\n",
      "0.91134113073349\n",
      "0.91134113073349\n",
      "0.91134113073349\n",
      "0.91134113073349\n",
      "0.91134113073349\n",
      "0.91134113073349\n",
      "0.91134113073349\n",
      "0.91134113073349\n",
      "0.91134113073349\n",
      "0.91134113073349\n",
      "0.91134113073349\n",
      "0.91134113073349\n",
      "0.91134113073349\n",
      "0.91134113073349\n"
     ]
    }
   ],
   "source": [
    "for step in range(30):\n",
    "    optim.zero_grad()\n",
    "    state_grid = torch.zeros((1, 16, 32, 32), requires_grad=False, device=device)\n",
    "    state_grid[0, 3:, 16, 16] += 1.\n",
    "    imgs = []\n",
    "    for k in range(100):\n",
    "        alive_pre = alive_mask(state_grid)\n",
    "        perception_grid = perception(state_grid)\n",
    "        ds_grid = policy(perception_grid)\n",
    "        mask = stochastic_update_mask(ds_grid, prob=0.3)\n",
    "        state_grid = state_grid + ds_grid * mask\n",
    "        alive_post = alive_mask(state_grid)\n",
    "        state_grid = state_grid * alive_post\n",
    "        imgs.append(state_grid.detach().cpu()[0].permute(1, 2, 0).data.numpy())\n",
    "    loss_value = loss_fn(target[:, :4, ...], torch.sigmoid(state_grid[:, :4, ...]))\n",
    "    loss_value.backward()\n",
    "    optim.step()\n",
    "    print(loss_value.item())"
   ]
  },
  {
   "cell_type": "code",
   "execution_count": 9,
   "metadata": {},
   "outputs": [
    {
     "data": {
      "text/plain": [
       "tensor(1024., device='cuda:0')"
      ]
     },
     "execution_count": 9,
     "metadata": {},
     "output_type": "execute_result"
    }
   ],
   "source": [
    "alive_post.sum()"
   ]
  },
  {
   "cell_type": "code",
   "execution_count": 10,
   "metadata": {},
   "outputs": [
    {
     "name": "stderr",
     "output_type": "stream",
     "text": [
      "Clipping input data to the valid range for imshow with RGB data ([0..1] for floats or [0..255] for integers).\n"
     ]
    },
    {
     "data": {
      "text/plain": [
       "<matplotlib.image.AxesImage at 0x7f416a54a210>"
      ]
     },
     "execution_count": 10,
     "metadata": {},
     "output_type": "execute_result"
    },
    {
     "data": {
      "image/png": "[encoded data removed]",
      "text/plain": [
       "<Figure size 432x288 with 1 Axes>"
      ]
     },
     "metadata": {
      "needs_background": "light"
     },
     "output_type": "display_data"
    }
   ],
   "source": [
    "plt.imshow((imgs[20][:, :, :3] + 1.) / 2.)"
   ]
  },
  {
   "cell_type": "code",
   "execution_count": 11,
   "metadata": {},
   "outputs": [
    {
     "data": {
      "text/plain": [
       "tensor(0.5020, device='cuda:0')"
      ]
     },
     "execution_count": 11,
     "metadata": {},
     "output_type": "execute_result"
    }
   ],
   "source": [
    "target[:, :3].max()"
   ]
  },
  {
   "cell_type": "code",
   "execution_count": 15,
   "metadata": {},
   "outputs": [
    {
     "name": "stderr",
     "output_type": "stream",
     "text": [
      "Clipping input data to the valid range for imshow with RGB data ([0..1] for floats or [0..255] for integers).\n"
     ]
    },
    {
     "data": {
      "text/plain": [
       "<matplotlib.image.AxesImage at 0x7f412c07abd0>"
      ]
     },
     "execution_count": 15,
     "metadata": {},
     "output_type": "execute_result"
    },
    {
     "data": {
      "image/png": "[encoded data removed]",
      "text/plain": [
       "<Figure size 432x288 with 1 Axes>"
      ]
     },
     "metadata": {
      "needs_background": "light"
     },
     "output_type": "display_data"
    }
   ],
   "source": [
    "plt.imshow(state_grid[0, :3, ...].cpu().permute(1, 2, 0).data.numpy())"
   ]
  },
  {
   "cell_type": "code",
   "execution_count": 14,
   "metadata": {},
   "outputs": [
    {
     "data": {
      "text/plain": [
       "<matplotlib.image.AxesImage at 0x7f412c114250>"
      ]
     },
     "execution_count": 14,
     "metadata": {},
     "output_type": "execute_result"
    },
    {
     "data": {
      "image/png": "[encoded data removed]",
      "text/plain": [
       "<Figure size 432x288 with 1 Axes>"
      ]
     },
     "metadata": {
      "needs_background": "light"
     },
     "output_type": "display_data"
    }
   ],
   "source": [
    "plt.imshow(target[0].cpu().permute(1, 2, 0).data.numpy())"
   ]
  },
  {
   "cell_type": "code",
   "execution_count": null,
   "metadata": {},
   "outputs": [],
   "source": []
  },
  {
   "cell_type": "code",
   "execution_count": null,
   "metadata": {},
   "outputs": [],
   "source": []
  }
 ],
 "metadata": {
  "kernelspec": {
   "display_name": "Python 3",
   "language": "python",
   "name": "python3"
  },
  "language_info": {
   "codemirror_mode": {
    "name": "ipython",
    "version": 3
   },
   "file_extension": ".py",
   "mimetype": "text/x-python",
   "name": "python",
   "nbconvert_exporter": "python",
   "pygments_lexer": "ipython3",
   "version": "3.7.4"
  }
 },
 "nbformat": 4,
 "nbformat_minor": 2
}
