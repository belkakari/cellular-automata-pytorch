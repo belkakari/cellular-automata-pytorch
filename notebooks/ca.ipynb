{
 "cells": [
  {
   "cell_type": "code",
   "execution_count": null,
   "metadata": {},
   "outputs": [],
   "source": [
    "import os\n",
    "import random\n",
    "import sys\n",
    "\n",
    "import torch\n",
    "import torch.nn as nn\n",
    "import torch.nn.functional as F\n",
    "from torch.utils.data import DataLoader\n",
    "from torchvision import transforms\n",
    "import matplotlib.pyplot as plt\n",
    "from PIL import Image\n",
    "\n",
    "sys.path.append('../')\n",
    "\n",
    "from modules.datasets import StateGridSet\n",
    "from modules.networks import Perception, Policy\n",
    "from modules.utils import alive_mask, load_emoji, stochastic_update_mask\n",
    "\n",
    "%matplotlib inline"
   ]
  },
  {
   "cell_type": "code",
   "execution_count": null,
   "metadata": {},
   "outputs": [],
   "source": [
    "plt.imshow(load_emoji('🦋'))"
   ]
  },
  {
   "cell_type": "code",
   "execution_count": null,
   "metadata": {},
   "outputs": [],
   "source": [
    "plt.imshow(F.pad(torch.from_numpy(load_emoji('🦋')).unsqueeze(0), (0, 0, 10, 10), value=0)[0].data.numpy())"
   ]
  },
  {
   "cell_type": "code",
   "execution_count": null,
   "metadata": {},
   "outputs": [],
   "source": [
    "torch.from_numpy(load_emoji('🦋')).permute(2, 0, 1).shape"
   ]
  },
  {
   "cell_type": "code",
   "execution_count": null,
   "metadata": {},
   "outputs": [],
   "source": [
    "F.pad(torch.from_numpy(load_emoji('🦋')).permute(2, 0, 1).unsqueeze(0), (10, 10, 10, 10), value=0)[0].data.numpy().shape"
   ]
  },
  {
   "cell_type": "code",
   "execution_count": null,
   "metadata": {},
   "outputs": [],
   "source": [
    "alpha = torch.rand((1, 1, 128, 128))"
   ]
  },
  {
   "cell_type": "code",
   "execution_count": null,
   "metadata": {},
   "outputs": [],
   "source": [
    "F.pad(alpha, (10, 10, 10, 10), value = 0).shape"
   ]
  },
  {
   "cell_type": "code",
   "execution_count": null,
   "metadata": {},
   "outputs": [],
   "source": [
    "F.interpolate(alpha[0], (1, 64, 64)).shape"
   ]
  },
  {
   "cell_type": "code",
   "execution_count": null,
   "metadata": {},
   "outputs": [],
   "source": [
    "(nn.MaxPool2d(3, stride=1, padding=1)(alpha) > 0.1).shape"
   ]
  },
  {
   "cell_type": "code",
   "execution_count": null,
   "metadata": {
    "colab": {
     "base_uri": "https://localhost:8080/",
     "height": 34
    },
    "colab_type": "code",
    "id": "fST5pquzz234",
    "outputId": "750c5417-6b03-4644-e065-82b877ec40e1"
   },
   "outputs": [],
   "source": [
    "torch.__version__"
   ]
  },
  {
   "cell_type": "code",
   "execution_count": null,
   "metadata": {
    "colab": {},
    "colab_type": "code",
    "id": "BTdSwxfgzy4k"
   },
   "outputs": [],
   "source": [
    "device = 'cuda:0'\n",
    "stochastic_prob = 0.1\n",
    "batch_size = 4\n",
    "num_epochs = 2000\n",
    "output_folder = './outputs/'"
   ]
  },
  {
   "cell_type": "code",
   "execution_count": null,
   "metadata": {
    "colab": {
     "base_uri": "https://localhost:8080/",
     "height": 302
    },
    "colab_type": "code",
    "id": "BHaieXH8zy4x",
    "outputId": "4215a65d-cd22-4020-ce9f-48d2c0016ed3"
   },
   "outputs": [],
   "source": [
    "img = load_emoji(emoji='🦎')\n",
    "img = transforms.ToTensor()(img)\n",
    "img = transforms.Normalize(tuple(0.5 for _ in range(img.shape[0])),\n",
    "                                          tuple(0.5 for _ in range(img.shape[0])))(img)\n",
    "img = img.to(device)\n",
    "print(img.max(), img.min(), img.mean())\n",
    "plt.imshow((img.cpu().permute(1, 2, 0).data.numpy() + 1.) / 2.)"
   ]
  },
  {
   "cell_type": "code",
   "execution_count": null,
   "metadata": {
    "colab": {},
    "colab_type": "code",
    "id": "sT7HWlREzy47"
   },
   "outputs": [],
   "source": [
    "policy = Policy(use_embedding=False, kernel=1, padding=0).to(device)\n",
    "perception = Perception(channels=16).to(device)\n",
    "optim = torch.optim.Adam(list(policy.parameters()) + list(perception.parameters()), lr=2e-3)\n",
    "scheduler = torch.optim.lr_scheduler.StepLR(optim, 100, gamma=0.7)\n",
    "loss_fn = nn.MSELoss()"
   ]
  },
  {
   "cell_type": "code",
   "execution_count": null,
   "metadata": {},
   "outputs": [],
   "source": [
    "for p in policy.parameters():\n",
    "    p.grad.data /= (p.grad.data.norm(2) + 1e-8)"
   ]
  },
  {
   "cell_type": "code",
   "execution_count": null,
   "metadata": {},
   "outputs": [],
   "source": [
    "dset = StateGridSet(emoji='🦎', use_coords=True, batch_size=batch_size, random_spawn=False)\n",
    "dset_test = StateGridSet(emoji='🦎', use_coords=True, batch_size=1, random_spawn=False)\n",
    "dloader = DataLoader(dset, batch_size=batch_size)\n",
    "dloader_test = DataLoader(dset, batch_size=1)"
   ]
  },
  {
   "cell_type": "code",
   "execution_count": null,
   "metadata": {
    "colab": {
     "base_uri": "https://localhost:8080/",
     "height": 561
    },
    "colab_type": "code",
    "id": "AdRLrySLzy49",
    "outputId": "a9dac145-ec8d-45ba-abf1-5a5d885ff6de",
    "scrolled": true
   },
   "outputs": [],
   "source": [
    "xv, yv = torch.meshgrid([torch.linspace(-1, 1, steps=img.shape[-1]),\n",
    "                         torch.linspace(-1, 1, steps=img.shape[-2])])\n",
    "\n",
    "for epoch in range(num_epochs):\n",
    "    n_steps = random.randint(100, 150)\n",
    "    split_rate = random.randint(30, 40)\n",
    "    for state_grid, target in dloader:\n",
    "        state_grid, target = state_grid.to(device), target.to(device)\n",
    "        for k in range(n_steps):\n",
    "            alive_pre = alive_mask((state_grid + 1.) / 2., thr=0.1)\n",
    "            perception_grid = perception(state_grid)\n",
    "            ds_grid = policy(perception_grid)\n",
    "            mask = stochastic_update_mask(ds_grid,\n",
    "                                          prob=stochastic_prob)\n",
    "            state_grid = state_grid + ds_grid * mask\n",
    "            alive_post = alive_mask((state_grid + 1.) / 2., thr=0.1)\n",
    "            final_mask = (alive_post.bool() & alive_pre.bool()).float()\n",
    "            state_grid = state_grid * final_mask\n",
    "\n",
    "            if dset.use_coords:\n",
    "                state_grid[:, -1, ...] = xv[None, :, :]\n",
    "                state_grid[:, -2, ...] = yv[None, :, :]\n",
    "\n",
    "            if k % split_rate == 0:\n",
    "                loss_value = loss_fn(target[:, :4, ...],\n",
    "                                     state_grid[:, :4, ...])\n",
    "                optim.zero_grad()\n",
    "                loss_value.backward()\n",
    "                optim.step()\n",
    "                state_grid = state_grid.detach()\n",
    "\n",
    "    if k % split_rate == 0:\n",
    "        pass\n",
    "    else:\n",
    "        loss_value = loss_fn(target[:, :4, ...], state_grid[:, :4, ...])\n",
    "        optim.zero_grad()\n",
    "        loss_value.backward()\n",
    "        optim.step()\n",
    "    scheduler.step()\n",
    "    print(f'{loss_value.item():.2f}, {n_steps} steps, ',\n",
    "          f'{split_rate} split rate, {epoch} epoch')\n",
    "    if epoch % 50 == 0:\n",
    "        print('Testing')\n",
    "        output_path = os.path.join(output_folder, f'{epoch}/')\n",
    "        os.makedirs(output_path, exist_ok=True)\n",
    "        test(policy, perception, dloader_test,\n",
    "             output_path, num_steps=150,\n",
    "             stochastic_prob=stochastic_prob)\n"
   ]
  },
  {
   "cell_type": "code",
   "execution_count": null,
   "metadata": {
    "colab": {},
    "colab_type": "code",
    "id": "R32N1M58zy5S"
   },
   "outputs": [],
   "source": []
  }
 ],
 "metadata": {
  "accelerator": "GPU",
  "colab": {
   "name": "ca.ipynb",
   "provenance": []
  },
  "kernelspec": {
   "display_name": "Python 3",
   "language": "python",
   "name": "python3"
  },
  "language_info": {
   "codemirror_mode": {
    "name": "ipython",
    "version": 3
   },
   "file_extension": ".py",
   "mimetype": "text/x-python",
   "name": "python",
   "nbconvert_exporter": "python",
   "pygments_lexer": "ipython3",
   "version": "3.7.4"
  }
 },
 "nbformat": 4,
 "nbformat_minor": 1
}