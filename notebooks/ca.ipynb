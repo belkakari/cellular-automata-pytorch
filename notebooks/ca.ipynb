{
 "cells": [
  {
   "cell_type": "markdown",
   "metadata": {
    "colab_type": "text",
    "id": "M435z1I3zy4e"
   },
   "source": [
    "# https://distill.pub/2020/growing-ca/"
   ]
  },
  {
   "cell_type": "code",
   "execution_count": 1,
   "metadata": {
    "colab": {},
    "colab_type": "code",
    "id": "YNmUXU3xzy4h"
   },
   "outputs": [],
   "source": [
    "import torch\n",
    "import torch.nn as nn\n",
    "import torch.nn.functional as F\n",
    "from torch.utils.data import Dataset, DataLoader\n",
    "import numpy as np\n",
    "import matplotlib.pyplot as plt\n",
    "from PIL import Image\n",
    "import torchvision\n",
    "import random\n",
    "import requests\n",
    "import io\n",
    "\n",
    "%matplotlib inline"
   ]
  },
  {
   "cell_type": "code",
   "execution_count": 2,
   "metadata": {
    "colab": {
     "base_uri": "https://localhost:8080/",
     "height": 34
    },
    "colab_type": "code",
    "id": "fST5pquzz234",
    "outputId": "750c5417-6b03-4644-e065-82b877ec40e1"
   },
   "outputs": [
    {
     "data": {
      "text/plain": [
       "'1.2.0'"
      ]
     },
     "execution_count": 2,
     "metadata": {},
     "output_type": "execute_result"
    }
   ],
   "source": [
    "torch.__version__"
   ]
  },
  {
   "cell_type": "code",
   "execution_count": 3,
   "metadata": {
    "colab": {},
    "colab_type": "code",
    "id": "BTdSwxfgzy4k"
   },
   "outputs": [],
   "source": [
    "device='cuda:0'"
   ]
  },
  {
   "cell_type": "code",
   "execution_count": 4,
   "metadata": {
    "colab": {},
    "colab_type": "code",
    "id": "IU7PfzEgzy4n"
   },
   "outputs": [],
   "source": [
    "class Perception(nn.Module):\n",
    "    def __init__(self, learnable=False, channels=16):\n",
    "        super().__init__()\n",
    "        sobel_x = (torch.tensor([[-1, 0, +1],\n",
    "                                 [-2, 0, +2],\n",
    "                                 [-1, 0, +1]]).float() / 8)[None, None, ...].repeat(channels, channels, 1, 1)\n",
    "        sobel_y = (torch.tensor([[-1, -2, -1],\n",
    "                                 [0, 0, 0],\n",
    "                                 [-1, -2, -1]]).float() / 8)[None, None, ...].repeat(channels, channels, 1, 1)\n",
    "        idt = (torch.tensor([[0, 0, 0],\n",
    "                             [0, 1, 0],\n",
    "                             [0, 0, 0]]).float())[None, None, ...].repeat(channels, channels, 1, 1)\n",
    "\n",
    "        self.sobel_x = nn.Conv2d(16, 16, 3, padding=1, bias=False)#nn.Parameter(sobel_x, requires_grad=False)\n",
    "        self.sobel_y = nn.Conv2d(16, 16, 3, padding=1, bias=False)#nn.Parameter(sobel_y, requires_grad=False)\n",
    "        self.identity = nn.Conv2d(16, 16, 3, padding=1, bias=False)#nn.Parameter(idt, requires_grad=False)\n",
    "        \n",
    "        self.sobel_x.weight = nn.Parameter(sobel_x)\n",
    "        self.sobel_y.weight = nn.Parameter(sobel_y)\n",
    "        self.identity.weight = nn.Parameter(idt)\n",
    "\n",
    "\n",
    "    def forward(self, state_grid, angle=0.0):\n",
    "        c, s = np.cos(angle), np.sin(angle)\n",
    "        grad_x = self.sobel_x(state_grid) #F.conv2d(state_grid, self.sobel_x, padding=1)\n",
    "        grad_y = self.sobel_y(state_grid) #F.conv2d(state_grid, self.sobel_y, padding=1)\n",
    "        #idt = self.identity(state_grid) #F.conv2d(state_grid, self.identity, padding=1)\n",
    "        perception_grid = torch.cat([state_grid, c * grad_x - s * grad_y, \n",
    "                                     s * grad_x - c * grad_y],  dim=1)\n",
    "        return perception_grid\n",
    "\n",
    "class Policy(nn.Module):\n",
    "    def __init__(self, state_dim=16, interm_dim=128, use_embedding=True, kernel=3, padding=1):\n",
    "        super().__init__()\n",
    "        dim = state_dim * 3\n",
    "        if use_embedding:\n",
    "            dim += 1\n",
    "        self.conv1 = nn.Conv2d(dim, interm_dim, kernel, padding=padding)\n",
    "#                       nn.ReLU(),\n",
    "#                       nn.Conv2d(interm_dim, interm_dim, kernel, padding=padding),\n",
    "#                       nn.ReLU(),\n",
    "#                       nn.Conv2d(interm_dim, interm_dim, kernel, padding=padding)]\n",
    "        #self.conv1 = nn.Sequential(*self.conv1)\n",
    "        self.conv2 = nn.Conv2d(interm_dim, state_dim, kernel, padding=padding)\n",
    "        nn.init.constant_(self.conv2.weight, 0.)\n",
    "        nn.init.constant_(self.conv2.bias, 0.)\n",
    "        \n",
    "    def forward(self, state):\n",
    "        interm = self.conv1(state)\n",
    "        interm = nn.ReLU()(interm)\n",
    "        return self.conv2(interm)\n",
    "    \n",
    "\n",
    "class Embedder(nn.Module):\n",
    "    def __init__(self):\n",
    "        super().__init__()\n",
    "        self.embedder = nn.Sequential(*[nn.Conv2d(4, 16, 3),\n",
    "                                       nn.ReLU(),\n",
    "                                       nn.Conv2d(16, 16, 3),\n",
    "                                       nn.ReLU(),\n",
    "                                       nn.Conv2d(16, 1, 3)])\n",
    "    \n",
    "    def forward(self, img):\n",
    "        return nn.AdaptiveAvgPool2d((1, 1))(self.embedder(img))\n",
    "    \n",
    "\n",
    "def stochastic_update_mask(ds_grid, prob=0.5):\n",
    "    # Generate mask for zero out a random fraction of the updates.\n",
    "    bern = torch.distributions.Bernoulli(prob)\n",
    "    rand_mask = bern.sample_n(ds_grid.shape[2] * ds_grid.shape[3]).view(ds_grid.shape[2:]).float().to(ds_grid.device)\n",
    "    return rand_mask\n",
    "\n",
    "def alive_mask(state_grid, thr=0.1):\n",
    "    # Take the alpha channel as the measure of “life”.\n",
    "    alive = (state_grid[:, 4, :, :].clamp(0, 1) > thr).float().unsqueeze(1)#.repeat(1, 16, 1, 1)\n",
    "    return alive\n"
   ]
  },
  {
   "cell_type": "code",
   "execution_count": 5,
   "metadata": {},
   "outputs": [],
   "source": [
    "class StateGridSet(Dataset):\n",
    "    def __init__(self, target, use_coords=False, batch_size=10, random_spawn=True):\n",
    "        self.target = target\n",
    "        self.use_coords = use_coords\n",
    "        self.batch_size = batch_size\n",
    "        self.random_spawn = random_spawn\n",
    "        \n",
    "    def __len__(self):\n",
    "        return self.batch_size\n",
    "        \n",
    "    def __getitem__(self, idx):\n",
    "        state_grid = torch.zeros((16, self.target.shape[-2], self.target.shape[-1]), \n",
    "                                  requires_grad=False, device=self.target.device)\n",
    "        if self.random_spawn:\n",
    "            center = random.randint(int(0.2 * (self.target.shape[-2] - 1)),\n",
    "                                    int(0.8 * (self.target.shape[-2] - 1)))\n",
    "        else:\n",
    "            center = state_grid.shape[2] // 2\n",
    "        state_grid[4:, center, center] += torch.ones_like(state_grid[4:, center, center])\n",
    "        state_grid[4, center, center] = torch.ones_like(state_grid[4, center, center])\n",
    "        \n",
    "        if self.use_coords:\n",
    "            xv, yv = torch.meshgrid([torch.linspace(-1, 1, steps=128),\n",
    "                         torch.linspace(-1, 1, steps=128)])\n",
    "            state_grid[-1] = xv\n",
    "            state_grid[-2] = yv\n",
    "        \n",
    "        return state_grid, self.target\n"
   ]
  },
  {
   "cell_type": "code",
   "execution_count": 6,
   "metadata": {
    "colab": {},
    "colab_type": "code",
    "id": "VzlP-Il4zy4q"
   },
   "outputs": [],
   "source": [
    "def load_image(url, max_size=128):\n",
    "    r = requests.get(url)\n",
    "    img = Image.open(io.BytesIO(r.content))\n",
    "    img.thumbnail((max_size, max_size), Image.ANTIALIAS)\n",
    "    img = np.float32(img) / 255.\n",
    "    # premultiply RGB by Alpha\n",
    "    img[..., :3] *= img[..., 3:]\n",
    "    return img\n",
    "\n",
    "def load_emoji(emoji):\n",
    "    code = hex(ord(emoji))[2:].lower()\n",
    "    url = 'https://github.com/googlefonts/noto-emoji/raw/master/png/128/emoji_u%s.png'%code\n",
    "    return load_image(url)\n",
    "\n"
   ]
  },
  {
   "cell_type": "code",
   "execution_count": null,
   "metadata": {
    "colab": {},
    "colab_type": "code",
    "id": "pOjTU0oZzy4t"
   },
   "outputs": [],
   "source": []
  },
  {
   "cell_type": "code",
   "execution_count": 7,
   "metadata": {
    "colab": {
     "base_uri": "https://localhost:8080/",
     "height": 302
    },
    "colab_type": "code",
    "id": "BHaieXH8zy4x",
    "outputId": "4215a65d-cd22-4020-ce9f-48d2c0016ed3"
   },
   "outputs": [
    {
     "name": "stdout",
     "output_type": "stream",
     "text": [
      "tensor(1., device='cuda:0') tensor(-1., device='cuda:0') tensor(-0.6186, device='cuda:0')\n"
     ]
    },
    {
     "data": {
      "text/plain": [
       "<matplotlib.image.AxesImage at 0x7f35347eb0d0>"
      ]
     },
     "execution_count": 7,
     "metadata": {},
     "output_type": "execute_result"
    },
    {
     "data": {
      "image/png": "[encoded data removed]",
      "text/plain": [
       "<Figure size 432x288 with 1 Axes>"
      ]
     },
     "metadata": {
      "needs_background": "light"
     },
     "output_type": "display_data"
    }
   ],
   "source": [
    "img = load_emoji(emoji='🦎')\n",
    "img = torchvision.transforms.ToTensor()(img)\n",
    "img = torchvision.transforms.Normalize(tuple(0.5 for _ in range(img.shape[0])),\n",
    "                                          tuple(0.5 for _ in range(img.shape[0])))(img)\n",
    "img = img.to(device)\n",
    "print(img.max(), img.min(), img.mean())\n",
    "plt.imshow((img.cpu().permute(1, 2, 0).data.numpy() + 1.) / 2.)"
   ]
  },
  {
   "cell_type": "code",
   "execution_count": 8,
   "metadata": {
    "colab": {},
    "colab_type": "code",
    "id": "sT7HWlREzy47"
   },
   "outputs": [],
   "source": [
    "policy = Policy(use_embedding=False, kernel=1, padding=0).to(device)\n",
    "perception = Perception(learnable=False, channels=16).to(device)\n",
    "#embedder = Embedder().to(device)\n",
    "optim = torch.optim.Adam(list(policy.parameters()) + list(perception.parameters()), lr=2e-3)\n",
    "scheduler = torch.optim.lr_scheduler.StepLR(optim, 100, gamma=0.7)\n",
    "loss_fn = nn.MSELoss()"
   ]
  },
  {
   "cell_type": "code",
   "execution_count": 9,
   "metadata": {},
   "outputs": [],
   "source": [
    "batch_size = 4\n",
    "dset = StateGridSet(img, use_coords=True, batch_size=batch_size, random_spawn=False)\n",
    "dset_test = StateGridSet(img, use_coords=True, batch_size=1, random_spawn=False)\n",
    "dloader = DataLoader(dset, batch_size=batch_size)\n",
    "dloader_test = DataLoader(dset, batch_size=1)"
   ]
  },
  {
   "cell_type": "code",
   "execution_count": 10,
   "metadata": {
    "colab": {
     "base_uri": "https://localhost:8080/",
     "height": 561
    },
    "colab_type": "code",
    "id": "AdRLrySLzy49",
    "outputId": "a9dac145-ec8d-45ba-abf1-5a5d885ff6de",
    "scrolled": true
   },
   "outputs": [
    {
     "name": "stderr",
     "output_type": "stream",
     "text": [
      "/opt/conda/lib/python3.7/site-packages/torch/distributions/distribution.py:134: UserWarning: sample_n will be deprecated. Use .sample((n,)) instead\n",
      "  warnings.warn('sample_n will be deprecated. Use .sample((n,)) instead', UserWarning)\n"
     ]
    },
    {
     "name": "stdout",
     "output_type": "stream",
     "text": [
      "38452.95, 109 steps, 35 split rate, 0 epoch\n",
      "1.66, 119 steps, 32 split rate, 1 epoch\n",
      "0.85, 140 steps, 36 split rate, 2 epoch\n",
      "0.73, 121 steps, 35 split rate, 3 epoch\n",
      "0.69, 118 steps, 36 split rate, 4 epoch\n",
      "0.67, 132 steps, 40 split rate, 5 epoch\n",
      "0.66, 100 steps, 38 split rate, 6 epoch\n",
      "0.66, 117 steps, 33 split rate, 7 epoch\n"
     ]
    },
    {
     "ename": "KeyboardInterrupt",
     "evalue": "",
     "output_type": "error",
     "traceback": [
      "\u001b[0;31m---------------------------------------------------------------------------\u001b[0m",
      "\u001b[0;31mKeyboardInterrupt\u001b[0m                         Traceback (most recent call last)",
      "\u001b[0;32m<ipython-input-10-02096b70c74f>\u001b[0m in \u001b[0;36m<module>\u001b[0;34m\u001b[0m\n\u001b[1;32m      9\u001b[0m         \u001b[0;32mfor\u001b[0m \u001b[0mk\u001b[0m \u001b[0;32min\u001b[0m \u001b[0mrange\u001b[0m\u001b[0;34m(\u001b[0m\u001b[0mn_steps\u001b[0m\u001b[0;34m)\u001b[0m\u001b[0;34m:\u001b[0m\u001b[0;34m\u001b[0m\u001b[0;34m\u001b[0m\u001b[0m\n\u001b[1;32m     10\u001b[0m             \u001b[0malive_pre\u001b[0m \u001b[0;34m=\u001b[0m \u001b[0malive_mask\u001b[0m\u001b[0;34m(\u001b[0m\u001b[0;34m(\u001b[0m\u001b[0mstate_grid\u001b[0m \u001b[0;34m+\u001b[0m \u001b[0;36m1.\u001b[0m\u001b[0;34m)\u001b[0m \u001b[0;34m/\u001b[0m \u001b[0;36m2.\u001b[0m\u001b[0;34m,\u001b[0m \u001b[0mthr\u001b[0m\u001b[0;34m=\u001b[0m\u001b[0;36m0.1\u001b[0m\u001b[0;34m)\u001b[0m\u001b[0;34m\u001b[0m\u001b[0;34m\u001b[0m\u001b[0m\n\u001b[0;32m---> 11\u001b[0;31m             \u001b[0mperception_grid\u001b[0m \u001b[0;34m=\u001b[0m \u001b[0mperception\u001b[0m\u001b[0;34m(\u001b[0m\u001b[0mstate_grid\u001b[0m\u001b[0;34m)\u001b[0m\u001b[0;34m\u001b[0m\u001b[0;34m\u001b[0m\u001b[0m\n\u001b[0m\u001b[1;32m     12\u001b[0m             \u001b[0mds_grid\u001b[0m \u001b[0;34m=\u001b[0m \u001b[0mpolicy\u001b[0m\u001b[0;34m(\u001b[0m\u001b[0mperception_grid\u001b[0m\u001b[0;34m)\u001b[0m\u001b[0;34m\u001b[0m\u001b[0;34m\u001b[0m\u001b[0m\n\u001b[1;32m     13\u001b[0m             \u001b[0mmask\u001b[0m \u001b[0;34m=\u001b[0m \u001b[0mstochastic_update_mask\u001b[0m\u001b[0;34m(\u001b[0m\u001b[0mds_grid\u001b[0m\u001b[0;34m,\u001b[0m \u001b[0mprob\u001b[0m\u001b[0;34m=\u001b[0m\u001b[0;36m0.9\u001b[0m\u001b[0;34m)\u001b[0m\u001b[0;34m[\u001b[0m\u001b[0;32mNone\u001b[0m\u001b[0;34m,\u001b[0m \u001b[0;32mNone\u001b[0m\u001b[0;34m]\u001b[0m\u001b[0;34m\u001b[0m\u001b[0;34m\u001b[0m\u001b[0m\n",
      "\u001b[0;32m/opt/conda/lib/python3.7/site-packages/torch/nn/modules/module.py\u001b[0m in \u001b[0;36m__call__\u001b[0;34m(self, *input, **kwargs)\u001b[0m\n\u001b[1;32m    545\u001b[0m             \u001b[0mresult\u001b[0m \u001b[0;34m=\u001b[0m \u001b[0mself\u001b[0m\u001b[0;34m.\u001b[0m\u001b[0m_slow_forward\u001b[0m\u001b[0;34m(\u001b[0m\u001b[0;34m*\u001b[0m\u001b[0minput\u001b[0m\u001b[0;34m,\u001b[0m \u001b[0;34m**\u001b[0m\u001b[0mkwargs\u001b[0m\u001b[0;34m)\u001b[0m\u001b[0;34m\u001b[0m\u001b[0;34m\u001b[0m\u001b[0m\n\u001b[1;32m    546\u001b[0m         \u001b[0;32melse\u001b[0m\u001b[0;34m:\u001b[0m\u001b[0;34m\u001b[0m\u001b[0;34m\u001b[0m\u001b[0m\n\u001b[0;32m--> 547\u001b[0;31m             \u001b[0mresult\u001b[0m \u001b[0;34m=\u001b[0m \u001b[0mself\u001b[0m\u001b[0;34m.\u001b[0m\u001b[0mforward\u001b[0m\u001b[0;34m(\u001b[0m\u001b[0;34m*\u001b[0m\u001b[0minput\u001b[0m\u001b[0;34m,\u001b[0m \u001b[0;34m**\u001b[0m\u001b[0mkwargs\u001b[0m\u001b[0;34m)\u001b[0m\u001b[0;34m\u001b[0m\u001b[0;34m\u001b[0m\u001b[0m\n\u001b[0m\u001b[1;32m    548\u001b[0m         \u001b[0;32mfor\u001b[0m \u001b[0mhook\u001b[0m \u001b[0;32min\u001b[0m \u001b[0mself\u001b[0m\u001b[0;34m.\u001b[0m\u001b[0m_forward_hooks\u001b[0m\u001b[0;34m.\u001b[0m\u001b[0mvalues\u001b[0m\u001b[0;34m(\u001b[0m\u001b[0;34m)\u001b[0m\u001b[0;34m:\u001b[0m\u001b[0;34m\u001b[0m\u001b[0;34m\u001b[0m\u001b[0m\n\u001b[1;32m    549\u001b[0m             \u001b[0mhook_result\u001b[0m \u001b[0;34m=\u001b[0m \u001b[0mhook\u001b[0m\u001b[0;34m(\u001b[0m\u001b[0mself\u001b[0m\u001b[0;34m,\u001b[0m \u001b[0minput\u001b[0m\u001b[0;34m,\u001b[0m \u001b[0mresult\u001b[0m\u001b[0;34m)\u001b[0m\u001b[0;34m\u001b[0m\u001b[0;34m\u001b[0m\u001b[0m\n",
      "\u001b[0;32m<ipython-input-4-4171e8caf1f0>\u001b[0m in \u001b[0;36mforward\u001b[0;34m(self, state_grid, angle)\u001b[0m\n\u001b[1;32m     22\u001b[0m \u001b[0;34m\u001b[0m\u001b[0m\n\u001b[1;32m     23\u001b[0m     \u001b[0;32mdef\u001b[0m \u001b[0mforward\u001b[0m\u001b[0;34m(\u001b[0m\u001b[0mself\u001b[0m\u001b[0;34m,\u001b[0m \u001b[0mstate_grid\u001b[0m\u001b[0;34m,\u001b[0m \u001b[0mangle\u001b[0m\u001b[0;34m=\u001b[0m\u001b[0;36m0.0\u001b[0m\u001b[0;34m)\u001b[0m\u001b[0;34m:\u001b[0m\u001b[0;34m\u001b[0m\u001b[0;34m\u001b[0m\u001b[0m\n\u001b[0;32m---> 24\u001b[0;31m         \u001b[0mc\u001b[0m\u001b[0;34m,\u001b[0m \u001b[0ms\u001b[0m \u001b[0;34m=\u001b[0m \u001b[0mnp\u001b[0m\u001b[0;34m.\u001b[0m\u001b[0mcos\u001b[0m\u001b[0;34m(\u001b[0m\u001b[0mangle\u001b[0m\u001b[0;34m)\u001b[0m\u001b[0;34m,\u001b[0m \u001b[0mnp\u001b[0m\u001b[0;34m.\u001b[0m\u001b[0msin\u001b[0m\u001b[0;34m(\u001b[0m\u001b[0mangle\u001b[0m\u001b[0;34m)\u001b[0m\u001b[0;34m\u001b[0m\u001b[0;34m\u001b[0m\u001b[0m\n\u001b[0m\u001b[1;32m     25\u001b[0m         \u001b[0mgrad_x\u001b[0m \u001b[0;34m=\u001b[0m \u001b[0mself\u001b[0m\u001b[0;34m.\u001b[0m\u001b[0msobel_x\u001b[0m\u001b[0;34m(\u001b[0m\u001b[0mstate_grid\u001b[0m\u001b[0;34m)\u001b[0m \u001b[0;31m#F.conv2d(state_grid, self.sobel_x, padding=1)\u001b[0m\u001b[0;34m\u001b[0m\u001b[0;34m\u001b[0m\u001b[0m\n\u001b[1;32m     26\u001b[0m         \u001b[0mgrad_y\u001b[0m \u001b[0;34m=\u001b[0m \u001b[0mself\u001b[0m\u001b[0;34m.\u001b[0m\u001b[0msobel_y\u001b[0m\u001b[0;34m(\u001b[0m\u001b[0mstate_grid\u001b[0m\u001b[0;34m)\u001b[0m \u001b[0;31m#F.conv2d(state_grid, self.sobel_y, padding=1)\u001b[0m\u001b[0;34m\u001b[0m\u001b[0;34m\u001b[0m\u001b[0m\n",
      "\u001b[0;31mKeyboardInterrupt\u001b[0m: "
     ]
    }
   ],
   "source": [
    "xv, yv = torch.meshgrid([torch.linspace(-1, 1, steps=128),\n",
    "             torch.linspace(-1, 1, steps=128)])\n",
    "\n",
    "for step in range(2000):\n",
    "    loss_value = 0\n",
    "    n_steps = random.randint(100, 150)\n",
    "    split_rate = random.randint(30, 40)\n",
    "    for state_grid, target in dloader:\n",
    "        for k in range(n_steps):\n",
    "            alive_pre = alive_mask((state_grid + 1.) / 2., thr=0.1)\n",
    "            perception_grid = perception(state_grid)\n",
    "            ds_grid = policy(perception_grid)\n",
    "            mask = stochastic_update_mask(ds_grid, prob=0.9)[None, None]\n",
    "            state_grid = state_grid + ds_grid * mask\n",
    "            alive_post = alive_mask((state_grid + 1.) / 2., thr=0.1)\n",
    "            state_grid = state_grid * (alive_post.bool() & alive_pre.bool()).float()\n",
    "            \n",
    "            if dset.use_coords:\n",
    "                state_grid[:, -1, ...] = xv[None, :, :]\n",
    "                state_grid[:, -2, ...] = yv[None, :, :]\n",
    "            \n",
    "            if k % split_rate == 0:\n",
    "                loss_value = loss_fn(target[:, :4, ...], state_grid[:, :4, ...])\n",
    "                optim.zero_grad()\n",
    "                loss_value.backward()\n",
    "                optim.step()\n",
    "                state_grid = state_grid.detach()\n",
    "                #idx_to_new = random.randint(0, dset.batch_size - 1)\n",
    "                #state_grid[idx_to_new] = next(iter(dloader))[0][idx_to_new]\n",
    "    if k % split_rate == 0:\n",
    "        pass\n",
    "    else:\n",
    "        loss_value = loss_fn(target[:, :4, ...], state_grid[:, :4, ...])\n",
    "        optim.zero_grad()\n",
    "        loss_value.backward()\n",
    "        optim.step()\n",
    "    scheduler.step()\n",
    "    print(f'{loss_value.item():.2f}, {n_steps} steps, {split_rate} split rate, {step} epoch')\n",
    "plt.imshow((((state_grid[0, :3, ...] + 1.) / 2.).clamp(0, 1).cpu().permute(1, 2, 0).data.numpy() + 1.) / 2.)"
   ]
  },
  {
   "cell_type": "code",
   "execution_count": null,
   "metadata": {},
   "outputs": [],
   "source": []
  },
  {
   "cell_type": "code",
   "execution_count": null,
   "metadata": {},
   "outputs": [],
   "source": [
    "target.shape"
   ]
  },
  {
   "cell_type": "code",
   "execution_count": null,
   "metadata": {},
   "outputs": [],
   "source": [
    "imgs = []\n",
    "topil = torchvision.transforms.ToPILImage()\n",
    "with torch.no_grad():\n",
    "    for state_grid, _ in dloader_test:\n",
    "        for k in range(150):\n",
    "            imgs.append(topil(state_grid[0, :4, ...].cpu()))\n",
    "            alive_pre = alive_mask((state_grid + 1.) / 2., thr=0.1)\n",
    "            perception_grid = perception(state_grid)\n",
    "            ds_grid = policy(perception_grid)\n",
    "            mask = stochastic_update_mask(ds_grid, prob=0.1)[None, None]\n",
    "            state_grid = state_grid + ds_grid * mask\n",
    "            alive_post = alive_mask((state_grid + 1.) / 2., thr=0.1)\n",
    "            state_grid = state_grid * (alive_post.bool() & alive_pre.bool()).float()\n",
    "        break"
   ]
  },
  {
   "cell_type": "code",
   "execution_count": null,
   "metadata": {},
   "outputs": [],
   "source": [
    "imgs[0].save('/home/gleb/Downloads/out.gif', save_all=True, append_images=imgs[1:])"
   ]
  },
  {
   "cell_type": "code",
   "execution_count": null,
   "metadata": {},
   "outputs": [],
   "source": [
    "plt.imshow((((state_grid[0, :3, ...] + 1.) / 2.).clamp(0, 1).cpu().permute(1, 2, 0).data.numpy() + 1.) / 2.)"
   ]
  },
  {
   "cell_type": "code",
   "execution_count": null,
   "metadata": {},
   "outputs": [],
   "source": [
    "plt.imshow(perception(target[:, :4])[0, :4].cpu().permute(1, 2, 0).data.numpy())"
   ]
  },
  {
   "cell_type": "code",
   "execution_count": null,
   "metadata": {},
   "outputs": [],
   "source": []
  },
  {
   "cell_type": "code",
   "execution_count": null,
   "metadata": {},
   "outputs": [],
   "source": [
    "plt.imshow((perception(state_grid)[0, 16:19].cpu().permute(1, 2, 0).data.numpy() + 1.) / 2.)"
   ]
  },
  {
   "cell_type": "code",
   "execution_count": null,
   "metadata": {},
   "outputs": [],
   "source": [
    "plt.imshow(perception_grid[0, :3].permute(1, 2, 0).cpu().data.numpy())"
   ]
  },
  {
   "cell_type": "code",
   "execution_count": null,
   "metadata": {},
   "outputs": [],
   "source": [
    "ds_grid.shape"
   ]
  },
  {
   "cell_type": "code",
   "execution_count": null,
   "metadata": {},
   "outputs": [],
   "source": [
    "mask = stochastic_update_mask(ds_grid, prob=0.1)[None, None]\n",
    "plt.imshow((target * mask)[0].permute(1, 2, 0)[:, :, :3].cpu().data.numpy())"
   ]
  },
  {
   "cell_type": "code",
   "execution_count": null,
   "metadata": {},
   "outputs": [],
   "source": [
    "plt.imshow((perception_grid[0, 32:35].permute(1, 2, 0).cpu().data.numpy() + 1) / 2)"
   ]
  },
  {
   "cell_type": "code",
   "execution_count": null,
   "metadata": {},
   "outputs": [],
   "source": [
    "(torch.ones_like(state_grid) * (1 - alive_post)).shape"
   ]
  },
  {
   "cell_type": "code",
   "execution_count": null,
   "metadata": {},
   "outputs": [],
   "source": [
    "plt.imshow(state_grid[0, 4, ...].cpu().data.numpy())"
   ]
  },
  {
   "cell_type": "code",
   "execution_count": null,
   "metadata": {},
   "outputs": [],
   "source": [
    "plt.imshow(alive_mask(state_grid, thr=0.1).cpu().data.numpy()[0][0])"
   ]
  },
  {
   "cell_type": "code",
   "execution_count": null,
   "metadata": {
    "colab": {
     "base_uri": "https://localhost:8080/",
     "height": 34
    },
    "colab_type": "code",
    "id": "TngkaAbMzy5A",
    "outputId": "0b42ecc2-d8d7-4f4c-941f-dc14d9cd3f27"
   },
   "outputs": [],
   "source": [
    "alive_post.sum()"
   ]
  },
  {
   "cell_type": "code",
   "execution_count": null,
   "metadata": {
    "colab": {},
    "colab_type": "code",
    "id": "TRD0FXHrzy5G",
    "outputId": "bd825d78-6649-4753-c703-685a5e83aca3"
   },
   "outputs": [],
   "source": [
    "target[:, :3].max()"
   ]
  },
  {
   "cell_type": "code",
   "execution_count": null,
   "metadata": {
    "colab": {},
    "colab_type": "code",
    "id": "kA8yd0CTzy5I",
    "outputId": "1167c0d3-1b76-4274-c8c2-010e43c871c0"
   },
   "outputs": [],
   "source": [
    "plt.imshow(((state_grid[0, :3, ...]).cpu().permute(1, 2, 0).data.numpy() + 1.) / 2.)"
   ]
  },
  {
   "cell_type": "code",
   "execution_count": null,
   "metadata": {
    "colab": {},
    "colab_type": "code",
    "id": "bsjaXAwkzy5L",
    "outputId": "b0039776-8e05-4363-84cc-d5d82caab8df"
   },
   "outputs": [],
   "source": [
    "plt.imshow((target[0].cpu().permute(1, 2, 0).data.numpy() + 1) / 2)"
   ]
  },
  {
   "cell_type": "code",
   "execution_count": null,
   "metadata": {
    "colab": {},
    "colab_type": "code",
    "id": "mjNH0yu-zy5O"
   },
   "outputs": [],
   "source": []
  },
  {
   "cell_type": "code",
   "execution_count": null,
   "metadata": {
    "colab": {},
    "colab_type": "code",
    "id": "R32N1M58zy5S"
   },
   "outputs": [],
   "source": []
  }
 ],
 "metadata": {
  "accelerator": "GPU",
  "colab": {
   "name": "ca.ipynb",
   "provenance": []
  },
  "kernelspec": {
   "display_name": "Python 3",
   "language": "python",
   "name": "python3"
  },
  "language_info": {
   "codemirror_mode": {
    "name": "ipython",
    "version": 3
   },
   "file_extension": ".py",
   "mimetype": "text/x-python",
   "name": "python",
   "nbconvert_exporter": "python",
   "pygments_lexer": "ipython3",
   "version": "3.7.4"
  }
 },
 "nbformat": 4,
 "nbformat_minor": 1
}
